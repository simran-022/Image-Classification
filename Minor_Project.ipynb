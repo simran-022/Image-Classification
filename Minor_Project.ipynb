{
  "nbformat": 4,
  "nbformat_minor": 0,
  "metadata": {
    "colab": {
      "name": "Minor Project.ipynb",
      "provenance": [],
      "collapsed_sections": [],
      "toc_visible": true,
      "authorship_tag": "ABX9TyPHpKZLAxwnKJT7Cch1iabW",
      "include_colab_link": true
    },
    "kernelspec": {
      "name": "python3",
      "display_name": "Python 3"
    },
    "language_info": {
      "name": "python"
    }
  },
  "cells": [
    {
      "cell_type": "markdown",
      "metadata": {
        "id": "view-in-github",
        "colab_type": "text"
      },
      "source": [
        "<a href=\"https://colab.research.google.com/github/sims-022/Image-Classification/blob/main/Minor_Project.ipynb\" target=\"_parent\"><img src=\"https://colab.research.google.com/assets/colab-badge.svg\" alt=\"Open In Colab\"/></a>"
      ]
    },
    {
      "cell_type": "code",
      "metadata": {
        "colab": {
          "base_uri": "https://localhost:8080/"
        },
        "id": "ZT4XbBjAtYKh",
        "outputId": "5c005f45-fc59-4eb3-b125-d6fa78269166"
      },
      "source": [
        "from google.colab import drive\n",
        "drive.mount('/content/drive')"
      ],
      "execution_count": 20,
      "outputs": [
        {
          "output_type": "stream",
          "text": [
            "Mounted at /content/drive\n"
          ],
          "name": "stdout"
        }
      ]
    },
    {
      "cell_type": "code",
      "metadata": {
        "colab": {
          "base_uri": "https://localhost:8080/"
        },
        "id": "1uO4JH4AtWIU",
        "outputId": "bf470914-fcab-42ac-e966-633f63347972"
      },
      "source": [
        "%cd /content/drive/MyDrive/Flowers\n",
        "%cp -av /content/images /content/drive/MyDrive/Flowers"
      ],
      "execution_count": 21,
      "outputs": [
        {
          "output_type": "stream",
          "text": [
            "/content/drive/MyDrive/Flowers\n",
            "'/content/images' -> '/content/drive/MyDrive/Flowers/images'\n",
            "'/content/images/pretty sunflower' -> '/content/drive/MyDrive/Flowers/images/pretty sunflower'\n",
            "'/content/images/pretty sunflower/Image_1.jpg' -> '/content/drive/MyDrive/Flowers/images/pretty sunflower/Image_1.jpg'\n",
            "'/content/images/pretty sunflower/Image_2.jpg' -> '/content/drive/MyDrive/Flowers/images/pretty sunflower/Image_2.jpg'\n",
            "'/content/images/pretty sunflower/Image_3.jpg' -> '/content/drive/MyDrive/Flowers/images/pretty sunflower/Image_3.jpg'\n",
            "'/content/images/pretty sunflower/Image_4.jpg' -> '/content/drive/MyDrive/Flowers/images/pretty sunflower/Image_4.jpg'\n",
            "'/content/images/pretty sunflower/Image_5.jpg' -> '/content/drive/MyDrive/Flowers/images/pretty sunflower/Image_5.jpg'\n",
            "'/content/images/pretty sunflower/Image_6.jpg' -> '/content/drive/MyDrive/Flowers/images/pretty sunflower/Image_6.jpg'\n",
            "'/content/images/pretty sunflower/Image_7.jpg' -> '/content/drive/MyDrive/Flowers/images/pretty sunflower/Image_7.jpg'\n",
            "'/content/images/pretty sunflower/Image_8.jpg' -> '/content/drive/MyDrive/Flowers/images/pretty sunflower/Image_8.jpg'\n",
            "'/content/images/pretty sunflower/Image_9.jpg' -> '/content/drive/MyDrive/Flowers/images/pretty sunflower/Image_9.jpg'\n",
            "'/content/images/pretty sunflower/Image_10.jpg' -> '/content/drive/MyDrive/Flowers/images/pretty sunflower/Image_10.jpg'\n",
            "'/content/images/pretty sunflower/Image_11.jpg' -> '/content/drive/MyDrive/Flowers/images/pretty sunflower/Image_11.jpg'\n",
            "'/content/images/pretty sunflower/Image_12.jpg' -> '/content/drive/MyDrive/Flowers/images/pretty sunflower/Image_12.jpg'\n",
            "'/content/images/pretty sunflower/Image_13.jpg' -> '/content/drive/MyDrive/Flowers/images/pretty sunflower/Image_13.jpg'\n",
            "'/content/images/pretty sunflower/Image_14.jpg' -> '/content/drive/MyDrive/Flowers/images/pretty sunflower/Image_14.jpg'\n",
            "'/content/images/pretty sunflower/Image_15.jpg' -> '/content/drive/MyDrive/Flowers/images/pretty sunflower/Image_15.jpg'\n",
            "'/content/images/pretty sunflower/Image_16.jpg' -> '/content/drive/MyDrive/Flowers/images/pretty sunflower/Image_16.jpg'\n",
            "'/content/images/pretty sunflower/Image_17.jpg' -> '/content/drive/MyDrive/Flowers/images/pretty sunflower/Image_17.jpg'\n",
            "'/content/images/pretty sunflower/Image_18.jpg' -> '/content/drive/MyDrive/Flowers/images/pretty sunflower/Image_18.jpg'\n",
            "'/content/images/pretty sunflower/Image_19.jpg' -> '/content/drive/MyDrive/Flowers/images/pretty sunflower/Image_19.jpg'\n",
            "'/content/images/pretty sunflower/Image_20.jpg' -> '/content/drive/MyDrive/Flowers/images/pretty sunflower/Image_20.jpg'\n",
            "'/content/images/pretty sunflower/Image_21.jpg' -> '/content/drive/MyDrive/Flowers/images/pretty sunflower/Image_21.jpg'\n",
            "'/content/images/pretty sunflower/Image_22.jpg' -> '/content/drive/MyDrive/Flowers/images/pretty sunflower/Image_22.jpg'\n",
            "'/content/images/pretty sunflower/Image_23.jpg' -> '/content/drive/MyDrive/Flowers/images/pretty sunflower/Image_23.jpg'\n",
            "'/content/images/pretty sunflower/Image_24.jpg' -> '/content/drive/MyDrive/Flowers/images/pretty sunflower/Image_24.jpg'\n",
            "'/content/images/pretty sunflower/Image_25.jpg' -> '/content/drive/MyDrive/Flowers/images/pretty sunflower/Image_25.jpg'\n",
            "'/content/images/pretty sunflower/Image_26.jpg' -> '/content/drive/MyDrive/Flowers/images/pretty sunflower/Image_26.jpg'\n",
            "'/content/images/pretty sunflower/Image_27.jpg' -> '/content/drive/MyDrive/Flowers/images/pretty sunflower/Image_27.jpg'\n",
            "'/content/images/pretty sunflower/Image_28.jpg' -> '/content/drive/MyDrive/Flowers/images/pretty sunflower/Image_28.jpg'\n",
            "'/content/images/pretty sunflower/Image_29.jpg' -> '/content/drive/MyDrive/Flowers/images/pretty sunflower/Image_29.jpg'\n",
            "'/content/images/pretty sunflower/Image_30.jpg' -> '/content/drive/MyDrive/Flowers/images/pretty sunflower/Image_30.jpg'\n",
            "'/content/images/pretty sunflower/Image_31.jpg' -> '/content/drive/MyDrive/Flowers/images/pretty sunflower/Image_31.jpg'\n",
            "'/content/images/pretty sunflower/Image_32.jpg' -> '/content/drive/MyDrive/Flowers/images/pretty sunflower/Image_32.jpg'\n",
            "'/content/images/pretty sunflower/Image_33.jpg' -> '/content/drive/MyDrive/Flowers/images/pretty sunflower/Image_33.jpg'\n",
            "'/content/images/pretty sunflower/Image_34.jpg' -> '/content/drive/MyDrive/Flowers/images/pretty sunflower/Image_34.jpg'\n",
            "'/content/images/pretty sunflower/Image_35.jpg' -> '/content/drive/MyDrive/Flowers/images/pretty sunflower/Image_35.jpg'\n",
            "'/content/images/pretty sunflower/Image_36.jpg' -> '/content/drive/MyDrive/Flowers/images/pretty sunflower/Image_36.jpg'\n",
            "'/content/images/pretty sunflower/Image_37.jpg' -> '/content/drive/MyDrive/Flowers/images/pretty sunflower/Image_37.jpg'\n",
            "'/content/images/pretty sunflower/Image_38.jpg' -> '/content/drive/MyDrive/Flowers/images/pretty sunflower/Image_38.jpg'\n",
            "'/content/images/pretty sunflower/Image_39.jpg' -> '/content/drive/MyDrive/Flowers/images/pretty sunflower/Image_39.jpg'\n",
            "'/content/images/pretty sunflower/Image_40.jpg' -> '/content/drive/MyDrive/Flowers/images/pretty sunflower/Image_40.jpg'\n",
            "'/content/images/white rose' -> '/content/drive/MyDrive/Flowers/images/white rose'\n",
            "'/content/images/white rose/Image_1.jpg' -> '/content/drive/MyDrive/Flowers/images/white rose/Image_1.jpg'\n",
            "'/content/images/white rose/Image_2.jpg' -> '/content/drive/MyDrive/Flowers/images/white rose/Image_2.jpg'\n",
            "'/content/images/white rose/Image_3.png' -> '/content/drive/MyDrive/Flowers/images/white rose/Image_3.png'\n",
            "'/content/images/white rose/Image_4.jpg' -> '/content/drive/MyDrive/Flowers/images/white rose/Image_4.jpg'\n",
            "'/content/images/white rose/Image_5.jpg' -> '/content/drive/MyDrive/Flowers/images/white rose/Image_5.jpg'\n",
            "'/content/images/white rose/Image_6.jpg' -> '/content/drive/MyDrive/Flowers/images/white rose/Image_6.jpg'\n",
            "'/content/images/white rose/Image_7.jpg' -> '/content/drive/MyDrive/Flowers/images/white rose/Image_7.jpg'\n",
            "'/content/images/white rose/Image_8.jpeg' -> '/content/drive/MyDrive/Flowers/images/white rose/Image_8.jpeg'\n",
            "'/content/images/white rose/Image_9.png' -> '/content/drive/MyDrive/Flowers/images/white rose/Image_9.png'\n",
            "'/content/images/white rose/Image_10.jpg' -> '/content/drive/MyDrive/Flowers/images/white rose/Image_10.jpg'\n",
            "'/content/images/white rose/Image_11.jpg' -> '/content/drive/MyDrive/Flowers/images/white rose/Image_11.jpg'\n",
            "'/content/images/white rose/Image_12.png' -> '/content/drive/MyDrive/Flowers/images/white rose/Image_12.png'\n",
            "'/content/images/white rose/Image_13.jpg' -> '/content/drive/MyDrive/Flowers/images/white rose/Image_13.jpg'\n",
            "'/content/images/white rose/Image_14.jpg' -> '/content/drive/MyDrive/Flowers/images/white rose/Image_14.jpg'\n",
            "'/content/images/white rose/Image_15.jpg' -> '/content/drive/MyDrive/Flowers/images/white rose/Image_15.jpg'\n",
            "'/content/images/white rose/Image_16.jpg' -> '/content/drive/MyDrive/Flowers/images/white rose/Image_16.jpg'\n",
            "'/content/images/white rose/Image_17.jpeg' -> '/content/drive/MyDrive/Flowers/images/white rose/Image_17.jpeg'\n",
            "'/content/images/white rose/Image_18.png' -> '/content/drive/MyDrive/Flowers/images/white rose/Image_18.png'\n",
            "'/content/images/white rose/Image_19.jpg' -> '/content/drive/MyDrive/Flowers/images/white rose/Image_19.jpg'\n",
            "'/content/images/white rose/Image_20.png' -> '/content/drive/MyDrive/Flowers/images/white rose/Image_20.png'\n",
            "'/content/images/white rose/Image_21.jpg' -> '/content/drive/MyDrive/Flowers/images/white rose/Image_21.jpg'\n",
            "'/content/images/white rose/Image_22.jpg' -> '/content/drive/MyDrive/Flowers/images/white rose/Image_22.jpg'\n",
            "'/content/images/white rose/Image_23.jpg' -> '/content/drive/MyDrive/Flowers/images/white rose/Image_23.jpg'\n",
            "'/content/images/white rose/Image_24.jpg' -> '/content/drive/MyDrive/Flowers/images/white rose/Image_24.jpg'\n",
            "'/content/images/white rose/Image_25.jpeg' -> '/content/drive/MyDrive/Flowers/images/white rose/Image_25.jpeg'\n",
            "'/content/images/white rose/Image_26.png' -> '/content/drive/MyDrive/Flowers/images/white rose/Image_26.png'\n",
            "'/content/images/white rose/Image_27.jpg' -> '/content/drive/MyDrive/Flowers/images/white rose/Image_27.jpg'\n",
            "'/content/images/white rose/Image_28.png' -> '/content/drive/MyDrive/Flowers/images/white rose/Image_28.png'\n",
            "'/content/images/white rose/Image_29.jpg' -> '/content/drive/MyDrive/Flowers/images/white rose/Image_29.jpg'\n",
            "'/content/images/white rose/Image_30.jpg' -> '/content/drive/MyDrive/Flowers/images/white rose/Image_30.jpg'\n",
            "'/content/images/white rose/Image_31.jpg' -> '/content/drive/MyDrive/Flowers/images/white rose/Image_31.jpg'\n",
            "'/content/images/white rose/Image_32.jpg' -> '/content/drive/MyDrive/Flowers/images/white rose/Image_32.jpg'\n",
            "'/content/images/white rose/Image_33.jpeg' -> '/content/drive/MyDrive/Flowers/images/white rose/Image_33.jpeg'\n",
            "'/content/images/white rose/Image_34.png' -> '/content/drive/MyDrive/Flowers/images/white rose/Image_34.png'\n",
            "'/content/images/white rose/Image_35.png' -> '/content/drive/MyDrive/Flowers/images/white rose/Image_35.png'\n",
            "'/content/images/white rose/Image_36.jpg' -> '/content/drive/MyDrive/Flowers/images/white rose/Image_36.jpg'\n",
            "'/content/images/white rose/Image_37.jpg' -> '/content/drive/MyDrive/Flowers/images/white rose/Image_37.jpg'\n",
            "'/content/images/white rose/Image_38.jpg' -> '/content/drive/MyDrive/Flowers/images/white rose/Image_38.jpg'\n",
            "'/content/images/white rose/Image_39.jpg' -> '/content/drive/MyDrive/Flowers/images/white rose/Image_39.jpg'\n",
            "'/content/images/white rose/Image_40.jpeg' -> '/content/drive/MyDrive/Flowers/images/white rose/Image_40.jpeg'\n"
          ],
          "name": "stdout"
        }
      ]
    },
    {
      "cell_type": "code",
      "metadata": {
        "colab": {
          "base_uri": "https://localhost:8080/"
        },
        "id": "nsSwKQwNDIWC",
        "outputId": "ca5d2e53-996e-40b9-8bd2-36e7ead8162d"
      },
      "source": [
        "!pip install bing-image-downloader"
      ],
      "execution_count": null,
      "outputs": [
        {
          "output_type": "stream",
          "text": [
            "Collecting bing-image-downloader\n",
            "  Downloading https://files.pythonhosted.org/packages/0d/bf/537a61030b84ae4cd5022d5c7b014fd9bc3ce7c02358919153a6658a61d3/bing_image_downloader-1.0.4-py3-none-any.whl\n",
            "Installing collected packages: bing-image-downloader\n",
            "Successfully installed bing-image-downloader-1.0.4\n"
          ],
          "name": "stdout"
        }
      ]
    },
    {
      "cell_type": "code",
      "metadata": {
        "id": "4rUz7US3q1Ai"
      },
      "source": [
        "!mkdir images"
      ],
      "execution_count": null,
      "outputs": []
    },
    {
      "cell_type": "code",
      "metadata": {
        "colab": {
          "base_uri": "https://localhost:8080/"
        },
        "id": "9n3VuQzAq1M6",
        "outputId": "804eed7c-9ee0-4fcc-920b-e4eba7fa712e"
      },
      "source": [
        "from bing_image_downloader import downloader\n",
        "downloader.download(\"pretty sunflower\",limit=40,output_dir='images',adult_filter_off=True)"
      ],
      "execution_count": null,
      "outputs": [
        {
          "output_type": "stream",
          "text": [
            "\n",
            "\n",
            "[!!]Indexing page: 1\n",
            "\n",
            "[%] Indexed 10 Images on Page 1.\n",
            "\n",
            "===============================================\n",
            "\n",
            "[%] Downloading Image #1 from https://www.wallpapers13.com/wp-content/uploads/2020/09/Sunflower-farm-field-yellow-flowers-beautiful-sunset--1680x1050.jpg\n",
            "[%] File Downloaded !\n",
            "\n",
            "[%] Downloading Image #2 from http://clickwallpapers.com/1080p/sunflower-widescreen-wallpaper-for-android-On-Wallpaper-1080p-HD.jpg\n",
            "[!] Issue getting: http://clickwallpapers.com/1080p/sunflower-widescreen-wallpaper-for-android-On-Wallpaper-1080p-HD.jpg\n",
            "[!] Error:: HTTP Error 522: Origin Connection Time-out\n",
            "[%] Downloading Image #2 from http://www.prettydesigns.com/wp-content/uploads/2014/12/Blue-Flower-and-Skull-Tattoo.jpg\n",
            "[%] File Downloaded !\n",
            "\n",
            "[%] Downloading Image #3 from http://3.bp.blogspot.com/--ShcPhgDlI8/UfOJYMdoxMI/AAAAAAAAG_0/pkfkiw2YE88/s1600/beautiful+Sun+flower+(9).jpg\n",
            "[%] File Downloaded !\n",
            "\n",
            "[%] Downloading Image #4 from http://cukierniapielesiak.pl/wp-content/uploads/2017/01/tort-weselny-Kopiowanie.jpg\n",
            "[%] File Downloaded !\n",
            "\n",
            "[%] Downloading Image #5 from http://www.proprofs.com/flashcards/upload/q658779.jpg\n",
            "[%] File Downloaded !\n",
            "\n",
            "[%] Downloading Image #6 from https://www.thepoke.co.uk/wp-content/uploads/2016/02/Bad-70s-Men-Fashion-15.jpg\n",
            "[%] File Downloaded !\n",
            "\n",
            "[%] Downloading Image #7 from https://i.pinimg.com/736x/5d/8d/38/5d8d3805352583dd61329578cec66b35.jpg\n",
            "[%] File Downloaded !\n",
            "\n",
            "[%] Downloading Image #8 from https://i.pinimg.com/736x/a8/0f/84/a80f847e6275945f8b86adc844a57cdc--field-of-sunflowers-beautiful-sunrise.jpg\n",
            "[%] File Downloaded !\n",
            "\n",
            "[%] Downloading Image #9 from https://www.wallpapers13.com/wp-content/uploads/2016/08/Pink-Dahlia-flower-HD-Wallpaper-Download-for-mobile-1920x1200-1920x1440.jpg\n",
            "[%] File Downloaded !\n",
            "\n",
            "\n",
            "\n",
            "[!!]Indexing page: 2\n",
            "\n",
            "[%] Indexed 10 Images on Page 2.\n",
            "\n",
            "===============================================\n",
            "\n",
            "[%] Downloading Image #10 from https://www.wallpapers13.com/wp-content/uploads/2020/09/Sunflower-farm-field-yellow-flowers-beautiful-sunset--1680x1050.jpg\n",
            "[%] File Downloaded !\n",
            "\n",
            "[%] Downloading Image #11 from http://clickwallpapers.com/1080p/sunflower-widescreen-wallpaper-for-android-On-Wallpaper-1080p-HD.jpg\n",
            "[!] Issue getting: http://clickwallpapers.com/1080p/sunflower-widescreen-wallpaper-for-android-On-Wallpaper-1080p-HD.jpg\n",
            "[!] Error:: HTTP Error 522: Origin Connection Time-out\n",
            "[%] Downloading Image #11 from http://www.prettydesigns.com/wp-content/uploads/2014/12/Blue-Flower-and-Skull-Tattoo.jpg\n",
            "[%] File Downloaded !\n",
            "\n",
            "[%] Downloading Image #12 from http://3.bp.blogspot.com/--ShcPhgDlI8/UfOJYMdoxMI/AAAAAAAAG_0/pkfkiw2YE88/s1600/beautiful+Sun+flower+(9).jpg\n",
            "[%] File Downloaded !\n",
            "\n",
            "[%] Downloading Image #13 from http://cukierniapielesiak.pl/wp-content/uploads/2017/01/tort-weselny-Kopiowanie.jpg\n",
            "[%] File Downloaded !\n",
            "\n",
            "[%] Downloading Image #14 from http://www.proprofs.com/flashcards/upload/q658779.jpg\n",
            "[%] File Downloaded !\n",
            "\n",
            "[%] Downloading Image #15 from https://www.thepoke.co.uk/wp-content/uploads/2016/02/Bad-70s-Men-Fashion-15.jpg\n",
            "[%] File Downloaded !\n",
            "\n",
            "[%] Downloading Image #16 from https://i.pinimg.com/736x/5d/8d/38/5d8d3805352583dd61329578cec66b35.jpg\n",
            "[%] File Downloaded !\n",
            "\n",
            "[%] Downloading Image #17 from https://i.pinimg.com/736x/a8/0f/84/a80f847e6275945f8b86adc844a57cdc--field-of-sunflowers-beautiful-sunrise.jpg\n",
            "[%] File Downloaded !\n",
            "\n",
            "[%] Downloading Image #18 from https://www.wallpapers13.com/wp-content/uploads/2016/08/Pink-Dahlia-flower-HD-Wallpaper-Download-for-mobile-1920x1200-1920x1440.jpg\n",
            "[%] File Downloaded !\n",
            "\n",
            "\n",
            "\n",
            "[!!]Indexing page: 3\n",
            "\n",
            "[%] Indexed 9 Images on Page 3.\n",
            "\n",
            "===============================================\n",
            "\n",
            "[%] Downloading Image #19 from http://3.bp.blogspot.com/--ShcPhgDlI8/UfOJYMdoxMI/AAAAAAAAG_0/pkfkiw2YE88/s1600/beautiful+Sun+flower+(9).jpg\n",
            "[%] File Downloaded !\n",
            "\n",
            "[%] Downloading Image #20 from http://cukierniapielesiak.pl/wp-content/uploads/2017/01/tort-weselny-Kopiowanie.jpg\n",
            "[%] File Downloaded !\n",
            "\n",
            "[%] Downloading Image #21 from http://www.proprofs.com/flashcards/upload/q658779.jpg\n",
            "[%] File Downloaded !\n",
            "\n",
            "[%] Downloading Image #22 from https://www.thepoke.co.uk/wp-content/uploads/2016/02/Bad-70s-Men-Fashion-15.jpg\n",
            "[%] File Downloaded !\n",
            "\n",
            "[%] Downloading Image #23 from https://i.pinimg.com/736x/5d/8d/38/5d8d3805352583dd61329578cec66b35.jpg\n",
            "[%] File Downloaded !\n",
            "\n",
            "[%] Downloading Image #24 from https://i.pinimg.com/736x/a8/0f/84/a80f847e6275945f8b86adc844a57cdc--field-of-sunflowers-beautiful-sunrise.jpg\n",
            "[%] File Downloaded !\n",
            "\n",
            "[%] Downloading Image #25 from https://www.wallpapers13.com/wp-content/uploads/2016/08/Pink-Dahlia-flower-HD-Wallpaper-Download-for-mobile-1920x1200-1920x1440.jpg\n",
            "[%] File Downloaded !\n",
            "\n",
            "[%] Downloading Image #26 from http://clickwallpapers.com/1080p/sunflower-widescreen-wallpaper-for-android-On-Wallpaper-1080p-HD.jpg\n",
            "[!] Issue getting: http://clickwallpapers.com/1080p/sunflower-widescreen-wallpaper-for-android-On-Wallpaper-1080p-HD.jpg\n",
            "[!] Error:: HTTP Error 522: Origin Connection Time-out\n",
            "[%] Downloading Image #26 from http://www.prettydesigns.com/wp-content/uploads/2014/12/Blue-Flower-and-Skull-Tattoo.jpg\n",
            "[%] File Downloaded !\n",
            "\n",
            "\n",
            "\n",
            "[!!]Indexing page: 4\n",
            "\n",
            "[%] Indexed 8 Images on Page 4.\n",
            "\n",
            "===============================================\n",
            "\n",
            "[%] Downloading Image #27 from http://www.proprofs.com/flashcards/upload/q658779.jpg\n",
            "[%] File Downloaded !\n",
            "\n",
            "[%] Downloading Image #28 from https://i.pinimg.com/736x/5d/8d/38/5d8d3805352583dd61329578cec66b35.jpg\n",
            "[%] File Downloaded !\n",
            "\n",
            "[%] Downloading Image #29 from https://i.pinimg.com/736x/a8/0f/84/a80f847e6275945f8b86adc844a57cdc--field-of-sunflowers-beautiful-sunrise.jpg\n",
            "[%] File Downloaded !\n",
            "\n",
            "[%] Downloading Image #30 from https://www.thepoke.co.uk/wp-content/uploads/2016/02/Bad-70s-Men-Fashion-15.jpg\n",
            "[%] File Downloaded !\n",
            "\n",
            "[%] Downloading Image #31 from http://clickwallpapers.com/1080p/sunflower-widescreen-wallpaper-for-android-On-Wallpaper-1080p-HD.jpg\n",
            "[!] Issue getting: http://clickwallpapers.com/1080p/sunflower-widescreen-wallpaper-for-android-On-Wallpaper-1080p-HD.jpg\n",
            "[!] Error:: HTTP Error 522: Origin Connection Time-out\n",
            "[%] Downloading Image #31 from http://cukierniapielesiak.pl/wp-content/uploads/2017/01/tort-weselny-Kopiowanie.jpg\n",
            "[%] File Downloaded !\n",
            "\n",
            "[%] Downloading Image #32 from http://www.prettydesigns.com/wp-content/uploads/2014/12/Blue-Flower-and-Skull-Tattoo.jpg\n",
            "[%] File Downloaded !\n",
            "\n",
            "[%] Downloading Image #33 from https://www.wallpapers13.com/wp-content/uploads/2016/08/Pink-Dahlia-flower-HD-Wallpaper-Download-for-mobile-1920x1200-1920x1440.jpg\n",
            "[%] File Downloaded !\n",
            "\n",
            "\n",
            "\n",
            "[!!]Indexing page: 5\n",
            "\n",
            "[%] Indexed 7 Images on Page 5.\n",
            "\n",
            "===============================================\n",
            "\n",
            "[%] Downloading Image #34 from https://i.pinimg.com/736x/5d/8d/38/5d8d3805352583dd61329578cec66b35.jpg\n",
            "[%] File Downloaded !\n",
            "\n",
            "[%] Downloading Image #35 from https://i.pinimg.com/736x/a8/0f/84/a80f847e6275945f8b86adc844a57cdc--field-of-sunflowers-beautiful-sunrise.jpg\n",
            "[%] File Downloaded !\n",
            "\n",
            "[%] Downloading Image #36 from http://clickwallpapers.com/1080p/sunflower-widescreen-wallpaper-for-android-On-Wallpaper-1080p-HD.jpg\n",
            "[!] Issue getting: http://clickwallpapers.com/1080p/sunflower-widescreen-wallpaper-for-android-On-Wallpaper-1080p-HD.jpg\n",
            "[!] Error:: HTTP Error 522: Origin Connection Time-out\n",
            "[%] Downloading Image #36 from https://www.wallpapers13.com/wp-content/uploads/2016/08/Pink-Dahlia-flower-HD-Wallpaper-Download-for-mobile-1920x1200-1920x1440.jpg\n",
            "[%] File Downloaded !\n",
            "\n",
            "[%] Downloading Image #37 from https://www.thepoke.co.uk/wp-content/uploads/2016/02/Bad-70s-Men-Fashion-15.jpg\n",
            "[%] File Downloaded !\n",
            "\n",
            "[%] Downloading Image #38 from http://www.prettydesigns.com/wp-content/uploads/2014/12/Blue-Flower-and-Skull-Tattoo.jpg\n",
            "[%] File Downloaded !\n",
            "\n",
            "[%] Downloading Image #39 from http://cukierniapielesiak.pl/wp-content/uploads/2017/01/tort-weselny-Kopiowanie.jpg\n",
            "[%] File Downloaded !\n",
            "\n",
            "\n",
            "\n",
            "[!!]Indexing page: 6\n",
            "\n",
            "[%] Indexed 6 Images on Page 6.\n",
            "\n",
            "===============================================\n",
            "\n",
            "[%] Downloading Image #40 from https://www.prettydesigns.com/wp-content/uploads/2014/11/Flower-Tattoo1.jpg\n",
            "[%] File Downloaded !\n",
            "\n",
            "\n",
            "\n",
            "[%] Done. Downloaded 40 images.\n",
            "\n",
            "===============================================\n",
            "\n"
          ],
          "name": "stdout"
        }
      ]
    },
    {
      "cell_type": "code",
      "metadata": {
        "colab": {
          "base_uri": "https://localhost:8080/"
        },
        "id": "SKRAaurCq1Z8",
        "outputId": "39383172-a73b-4f9a-8cab-3bca78b14eed"
      },
      "source": [
        "from bing_image_downloader import downloader\n",
        "downloader.download(\"white rose\",limit=40,output_dir='images',adult_filter_off=True)"
      ],
      "execution_count": null,
      "outputs": [
        {
          "output_type": "stream",
          "text": [
            "\n",
            "\n",
            "[!!]Indexing page: 1\n",
            "\n",
            "[%] Indexed 11 Images on Page 1.\n",
            "\n",
            "===============================================\n",
            "\n",
            "[%] Downloading Image #1 from http://www.allabouthappylife.com/wallpaper/roses/white_roses/white_rose_wallpaper-dsc02034.jpg\n",
            "[%] File Downloaded !\n",
            "\n",
            "[%] Downloading Image #2 from http://www.fiftyflowers.com/site_files/FiftyFlowers/Image/Product/Classic_Rose_White_Boutonniere_Corsage_Wedding_Package_300.jpg\n",
            "[!] Issue getting: http://www.fiftyflowers.com/site_files/FiftyFlowers/Image/Product/Classic_Rose_White_Boutonniere_Corsage_Wedding_Package_300.jpg\n",
            "[!] Error:: HTTP Error 403: Forbidden\n",
            "[%] Downloading Image #2 from http://www.allabouthappylife.com/wallpaper/roses_2/white-rose-dsc00091.jpg\n",
            "[%] File Downloaded !\n",
            "\n",
            "[%] Downloading Image #3 from http://www.brucebriscoe.com/bali/images/artsy/flowers/PinkYellowRose.jpg\n",
            "[!] Issue getting: http://www.brucebriscoe.com/bali/images/artsy/flowers/PinkYellowRose.jpg\n",
            "[!] Error:: <urlopen error [Errno 110] Connection timed out>\n",
            "[%] Downloading Image #3 from http://1.bp.blogspot.com/-sB3lK6VAJ3g/ThDUk12U6eI/AAAAAAAAAOQ/LisK19oR6qs/s1600/white-rose-transparent-isolated.png\n",
            "[%] File Downloaded !\n",
            "\n",
            "[%] Downloading Image #4 from http://3.bp.blogspot.com/-6V7rvJxB10c/TjS3rqYprYI/AAAAAAAABnk/aMf1LWazGWE/s1600/white_rose+07.jpg\n",
            "[%] File Downloaded !\n",
            "\n",
            "[%] Downloading Image #5 from http://meriamr.m.e.pic.centerblog.net/o/5917ccec.jpg\n",
            "[%] File Downloaded !\n",
            "\n",
            "[%] Downloading Image #6 from http://www.flowerspictures.org/images/flowers/roses/rose_8.jpg\n",
            "[%] File Downloaded !\n",
            "\n",
            "[%] Downloading Image #7 from http://www.laurelweddings.com/wp-content/uploads/2013/02/White-and-pink-rose-bouquet.jpg\n",
            "[%] File Downloaded !\n",
            "\n",
            "[%] Downloading Image #8 from http://1.bp.blogspot.com/-zGH-ta7WMXE/TYDPSvq8wsI/AAAAAAAAS_Y/Q3soQRMLxWc/s1600/white_roses_flower_wallpaper.jpeg\n",
            "[%] File Downloaded !\n",
            "\n",
            "[%] Downloading Image #9 from http://www.clker.com/cliparts/7/d/1/1/11971206571883337791johnny_automatic_rose_2.svg.hi.png\n",
            "[%] File Downloaded !\n",
            "\n",
            "\n",
            "\n",
            "[!!]Indexing page: 2\n",
            "\n",
            "[%] Indexed 11 Images on Page 2.\n",
            "\n",
            "===============================================\n",
            "\n",
            "[%] Downloading Image #10 from http://www.allabouthappylife.com/wallpaper/roses/white_roses/white_rose_wallpaper-dsc02034.jpg\n",
            "[%] File Downloaded !\n",
            "\n",
            "[%] Downloading Image #11 from http://www.fiftyflowers.com/site_files/FiftyFlowers/Image/Product/Classic_Rose_White_Boutonniere_Corsage_Wedding_Package_300.jpg\n",
            "[!] Issue getting: http://www.fiftyflowers.com/site_files/FiftyFlowers/Image/Product/Classic_Rose_White_Boutonniere_Corsage_Wedding_Package_300.jpg\n",
            "[!] Error:: HTTP Error 403: Forbidden\n",
            "[%] Downloading Image #11 from http://www.allabouthappylife.com/wallpaper/roses_2/white-rose-dsc00091.jpg\n",
            "[%] File Downloaded !\n",
            "\n",
            "[%] Downloading Image #12 from http://www.brucebriscoe.com/bali/images/artsy/flowers/PinkYellowRose.jpg\n",
            "[!] Issue getting: http://www.brucebriscoe.com/bali/images/artsy/flowers/PinkYellowRose.jpg\n",
            "[!] Error:: <urlopen error [Errno 110] Connection timed out>\n",
            "[%] Downloading Image #12 from http://1.bp.blogspot.com/-sB3lK6VAJ3g/ThDUk12U6eI/AAAAAAAAAOQ/LisK19oR6qs/s1600/white-rose-transparent-isolated.png\n",
            "[%] File Downloaded !\n",
            "\n",
            "[%] Downloading Image #13 from http://3.bp.blogspot.com/-6V7rvJxB10c/TjS3rqYprYI/AAAAAAAABnk/aMf1LWazGWE/s1600/white_rose+07.jpg\n",
            "[%] File Downloaded !\n",
            "\n",
            "[%] Downloading Image #14 from http://meriamr.m.e.pic.centerblog.net/o/5917ccec.jpg\n",
            "[%] File Downloaded !\n",
            "\n",
            "[%] Downloading Image #15 from http://www.flowerspictures.org/images/flowers/roses/rose_8.jpg\n",
            "[%] File Downloaded !\n",
            "\n",
            "[%] Downloading Image #16 from http://www.laurelweddings.com/wp-content/uploads/2013/02/White-and-pink-rose-bouquet.jpg\n",
            "[%] File Downloaded !\n",
            "\n",
            "[%] Downloading Image #17 from http://1.bp.blogspot.com/-zGH-ta7WMXE/TYDPSvq8wsI/AAAAAAAAS_Y/Q3soQRMLxWc/s1600/white_roses_flower_wallpaper.jpeg\n",
            "[%] File Downloaded !\n",
            "\n",
            "[%] Downloading Image #18 from http://www.clker.com/cliparts/7/d/1/1/11971206571883337791johnny_automatic_rose_2.svg.hi.png\n",
            "[%] File Downloaded !\n",
            "\n",
            "\n",
            "\n",
            "[!!]Indexing page: 3\n",
            "\n",
            "[%] Indexed 10 Images on Page 3.\n",
            "\n",
            "===============================================\n",
            "\n",
            "[%] Downloading Image #19 from http://www.fiftyflowers.com/site_files/FiftyFlowers/Image/Product/Classic_Rose_White_Boutonniere_Corsage_Wedding_Package_300.jpg\n",
            "[!] Issue getting: http://www.fiftyflowers.com/site_files/FiftyFlowers/Image/Product/Classic_Rose_White_Boutonniere_Corsage_Wedding_Package_300.jpg\n",
            "[!] Error:: HTTP Error 403: Forbidden\n",
            "[%] Downloading Image #19 from http://www.allabouthappylife.com/wallpaper/roses_2/white-rose-dsc00091.jpg\n",
            "[%] File Downloaded !\n",
            "\n",
            "[%] Downloading Image #20 from http://www.brucebriscoe.com/bali/images/artsy/flowers/PinkYellowRose.jpg\n",
            "[!] Issue getting: http://www.brucebriscoe.com/bali/images/artsy/flowers/PinkYellowRose.jpg\n",
            "[!] Error:: <urlopen error [Errno 110] Connection timed out>\n",
            "[%] Downloading Image #20 from http://1.bp.blogspot.com/-sB3lK6VAJ3g/ThDUk12U6eI/AAAAAAAAAOQ/LisK19oR6qs/s1600/white-rose-transparent-isolated.png\n",
            "[%] File Downloaded !\n",
            "\n",
            "[%] Downloading Image #21 from http://3.bp.blogspot.com/-6V7rvJxB10c/TjS3rqYprYI/AAAAAAAABnk/aMf1LWazGWE/s1600/white_rose+07.jpg\n",
            "[%] File Downloaded !\n",
            "\n",
            "[%] Downloading Image #22 from http://meriamr.m.e.pic.centerblog.net/o/5917ccec.jpg\n",
            "[%] File Downloaded !\n",
            "\n",
            "[%] Downloading Image #23 from http://www.flowerspictures.org/images/flowers/roses/rose_8.jpg\n",
            "[%] File Downloaded !\n",
            "\n",
            "[%] Downloading Image #24 from http://www.laurelweddings.com/wp-content/uploads/2013/02/White-and-pink-rose-bouquet.jpg\n",
            "[%] File Downloaded !\n",
            "\n",
            "[%] Downloading Image #25 from http://1.bp.blogspot.com/-zGH-ta7WMXE/TYDPSvq8wsI/AAAAAAAAS_Y/Q3soQRMLxWc/s1600/white_roses_flower_wallpaper.jpeg\n",
            "[%] File Downloaded !\n",
            "\n",
            "[%] Downloading Image #26 from http://www.clker.com/cliparts/7/d/1/1/11971206571883337791johnny_automatic_rose_2.svg.hi.png\n",
            "[%] File Downloaded !\n",
            "\n",
            "\n",
            "\n",
            "[!!]Indexing page: 4\n",
            "\n",
            "[%] Indexed 9 Images on Page 4.\n",
            "\n",
            "===============================================\n",
            "\n",
            "[%] Downloading Image #27 from http://www.allabouthappylife.com/wallpaper/roses_2/white-rose-dsc00091.jpg\n",
            "[%] File Downloaded !\n",
            "\n",
            "[%] Downloading Image #28 from http://www.brucebriscoe.com/bali/images/artsy/flowers/PinkYellowRose.jpg\n",
            "[!] Issue getting: http://www.brucebriscoe.com/bali/images/artsy/flowers/PinkYellowRose.jpg\n",
            "[!] Error:: <urlopen error [Errno 110] Connection timed out>\n",
            "[%] Downloading Image #28 from http://1.bp.blogspot.com/-sB3lK6VAJ3g/ThDUk12U6eI/AAAAAAAAAOQ/LisK19oR6qs/s1600/white-rose-transparent-isolated.png\n",
            "[%] File Downloaded !\n",
            "\n",
            "[%] Downloading Image #29 from http://3.bp.blogspot.com/-6V7rvJxB10c/TjS3rqYprYI/AAAAAAAABnk/aMf1LWazGWE/s1600/white_rose+07.jpg\n",
            "[%] File Downloaded !\n",
            "\n",
            "[%] Downloading Image #30 from http://meriamr.m.e.pic.centerblog.net/o/5917ccec.jpg\n",
            "[%] File Downloaded !\n",
            "\n",
            "[%] Downloading Image #31 from http://www.flowerspictures.org/images/flowers/roses/rose_8.jpg\n",
            "[%] File Downloaded !\n",
            "\n",
            "[%] Downloading Image #32 from http://www.laurelweddings.com/wp-content/uploads/2013/02/White-and-pink-rose-bouquet.jpg\n",
            "[%] File Downloaded !\n",
            "\n",
            "[%] Downloading Image #33 from http://1.bp.blogspot.com/-zGH-ta7WMXE/TYDPSvq8wsI/AAAAAAAAS_Y/Q3soQRMLxWc/s1600/white_roses_flower_wallpaper.jpeg\n",
            "[%] File Downloaded !\n",
            "\n",
            "[%] Downloading Image #34 from http://www.clker.com/cliparts/7/d/1/1/11971206571883337791johnny_automatic_rose_2.svg.hi.png\n",
            "[%] File Downloaded !\n",
            "\n",
            "\n",
            "\n",
            "[!!]Indexing page: 5\n",
            "\n",
            "[%] Indexed 8 Images on Page 5.\n",
            "\n",
            "===============================================\n",
            "\n",
            "[%] Downloading Image #35 from http://www.brucebriscoe.com/bali/images/artsy/flowers/PinkYellowRose.jpg\n",
            "[!] Issue getting: http://www.brucebriscoe.com/bali/images/artsy/flowers/PinkYellowRose.jpg\n",
            "[!] Error:: <urlopen error [Errno 110] Connection timed out>\n",
            "[%] Downloading Image #35 from http://1.bp.blogspot.com/-sB3lK6VAJ3g/ThDUk12U6eI/AAAAAAAAAOQ/LisK19oR6qs/s1600/white-rose-transparent-isolated.png\n",
            "[%] File Downloaded !\n",
            "\n",
            "[%] Downloading Image #36 from http://3.bp.blogspot.com/-6V7rvJxB10c/TjS3rqYprYI/AAAAAAAABnk/aMf1LWazGWE/s1600/white_rose+07.jpg\n",
            "[%] File Downloaded !\n",
            "\n",
            "[%] Downloading Image #37 from http://meriamr.m.e.pic.centerblog.net/o/5917ccec.jpg\n",
            "[%] File Downloaded !\n",
            "\n",
            "[%] Downloading Image #38 from http://www.flowerspictures.org/images/flowers/roses/rose_8.jpg\n",
            "[%] File Downloaded !\n",
            "\n",
            "[%] Downloading Image #39 from http://www.laurelweddings.com/wp-content/uploads/2013/02/White-and-pink-rose-bouquet.jpg\n",
            "[%] File Downloaded !\n",
            "\n",
            "[%] Downloading Image #40 from http://1.bp.blogspot.com/-zGH-ta7WMXE/TYDPSvq8wsI/AAAAAAAAS_Y/Q3soQRMLxWc/s1600/white_roses_flower_wallpaper.jpeg\n",
            "[%] File Downloaded !\n",
            "\n",
            "\n",
            "\n",
            "[%] Done. Downloaded 40 images.\n",
            "\n",
            "===============================================\n",
            "\n"
          ],
          "name": "stdout"
        }
      ]
    },
    {
      "cell_type": "code",
      "metadata": {
        "id": "Ut43yoGYq1gy"
      },
      "source": [
        "#Pre Processing \n",
        "import os\n",
        "import matplotlib.pyplot as plt\n",
        "import numpy as np\n",
        "from skimage.io import imread\n",
        "from skimage.transform import resize\n",
        "\n",
        "target = []\n",
        "images = []\n",
        "flat_data = []\n",
        "DATADIR = '/content/images' \n",
        "CATEGORIES = ['pretty sunflower','white rose']\n",
        "for category in CATEGORIES:\n",
        "    class_num = CATEGORIES.index(category)\n",
        "    path = os.path.join(DATADIR,category)\n",
        "    for img in os.listdir(path):\n",
        "       img_array = imread(os.path.join(path,img))\n",
        "       #print(img_array.shape)\n",
        "       #plt.imshow(img_array)\n",
        "       img_resized = resize(img_array,(150,150,3))\n",
        "       flat_data.append(img_resized.flatten())\n",
        "       images.append(img_resized)\n",
        "       target.append(class_num)\n",
        "\n",
        "flat_data = np.array(flat_data)\n",
        "target = np.array(target)\n",
        "images = np.array(images)"
      ],
      "execution_count": 5,
      "outputs": []
    },
    {
      "cell_type": "code",
      "metadata": {
        "id": "AWIffKesq1jd",
        "colab": {
          "base_uri": "https://localhost:8080/"
        },
        "outputId": "27c2813a-b22c-4e3d-98e1-02684e1885d5"
      },
      "source": [
        "target"
      ],
      "execution_count": 6,
      "outputs": [
        {
          "output_type": "execute_result",
          "data": {
            "text/plain": [
              "array([0, 0, 0, 0, 0, 0, 0, 0, 0, 0, 0, 0, 0, 0, 0, 0, 0, 0, 0, 0, 0, 0,\n",
              "       0, 0, 0, 0, 0, 0, 0, 0, 0, 0, 0, 0, 0, 0, 0, 0, 0, 0, 1, 1, 1, 1,\n",
              "       1, 1, 1, 1, 1, 1, 1, 1, 1, 1, 1, 1, 1, 1, 1, 1, 1, 1, 1, 1, 1, 1,\n",
              "       1, 1, 1, 1, 1, 1, 1, 1, 1, 1, 1, 1, 1, 1])"
            ]
          },
          "metadata": {
            "tags": []
          },
          "execution_count": 6
        }
      ]
    },
    {
      "cell_type": "code",
      "metadata": {
        "id": "-6nLLvypq1l_",
        "colab": {
          "base_uri": "https://localhost:8080/",
          "height": 283
        },
        "outputId": "04c0bc6f-5904-4737-cf87-d6b9a83d83e0"
      },
      "source": [
        "unique,count = np.unique(target,return_counts=True)\n",
        "plt.bar(CATEGORIES,count)"
      ],
      "execution_count": 7,
      "outputs": [
        {
          "output_type": "execute_result",
          "data": {
            "text/plain": [
              "<BarContainer object of 2 artists>"
            ]
          },
          "metadata": {
            "tags": []
          },
          "execution_count": 7
        },
        {
          "output_type": "display_data",
          "data": {
            "image/png": "[encoded data removed]",
            "text/plain": [
              "<Figure size 432x288 with 1 Axes>"
            ]
          },
          "metadata": {
            "tags": [],
            "needs_background": "light"
          }
        }
      ]
    },
    {
      "cell_type": "code",
      "metadata": {
        "id": "HnWr7GMlq1oo"
      },
      "source": [
        "from sklearn.model_selection import train_test_split\n",
        "x_train,x_test,y_train,y_test = train_test_split(flat_data,target,test_size=0.3,random_state=109)"
      ],
      "execution_count": 8,
      "outputs": []
    },
    {
      "cell_type": "code",
      "metadata": {
        "id": "owJ_trwNq1rF",
        "colab": {
          "base_uri": "https://localhost:8080/"
        },
        "outputId": "f27103ff-8eb4-4bca-f9cc-8d126328d535"
      },
      "source": [
        "from sklearn.model_selection import GridSearchCV\n",
        "from sklearn import svm\n",
        "param_grid = [\n",
        "             {'C':[1,10,100,1000],'kernel':['linear']},\n",
        "             {'C':[1,10,100,1000],'gamma':[0.001,0.0001],'kernel':['rbf']},\n",
        "]\n",
        "svc=svm.SVC(probability=True)\n",
        "clf=GridSearchCV(svc,param_grid)\n",
        "clf.fit(x_train,y_train)"
      ],
      "execution_count": 9,
      "outputs": [
        {
          "output_type": "execute_result",
          "data": {
            "text/plain": [
              "GridSearchCV(cv=None, error_score=nan,\n",
              "             estimator=SVC(C=1.0, break_ties=False, cache_size=200,\n",
              "                           class_weight=None, coef0=0.0,\n",
              "                           decision_function_shape='ovr', degree=3,\n",
              "                           gamma='scale', kernel='rbf', max_iter=-1,\n",
              "                           probability=True, random_state=None, shrinking=True,\n",
              "                           tol=0.001, verbose=False),\n",
              "             iid='deprecated', n_jobs=None,\n",
              "             param_grid=[{'C': [1, 10, 100, 1000], 'kernel': ['linear']},\n",
              "                         {'C': [1, 10, 100, 1000], 'gamma': [0.001, 0.0001],\n",
              "                          'kernel': ['rbf']}],\n",
              "             pre_dispatch='2*n_jobs', refit=True, return_train_score=False,\n",
              "             scoring=None, verbose=0)"
            ]
          },
          "metadata": {
            "tags": []
          },
          "execution_count": 9
        }
      ]
    },
    {
      "cell_type": "code",
      "metadata": {
        "id": "TMNPbQmbq1ui",
        "colab": {
          "base_uri": "https://localhost:8080/"
        },
        "outputId": "8e5a7576-73e3-4273-a2ac-86b0170aab1a"
      },
      "source": [
        "y_pred = clf.predict(x_test)\n",
        "y_pred"
      ],
      "execution_count": 10,
      "outputs": [
        {
          "output_type": "execute_result",
          "data": {
            "text/plain": [
              "array([0, 0, 1, 1, 1, 1, 1, 0, 0, 0, 1, 1, 0, 0, 0, 1, 0, 1, 0, 0, 1, 1,\n",
              "       0, 1])"
            ]
          },
          "metadata": {
            "tags": []
          },
          "execution_count": 10
        }
      ]
    },
    {
      "cell_type": "code",
      "metadata": {
        "id": "du9Ig-Riq1z6",
        "colab": {
          "base_uri": "https://localhost:8080/"
        },
        "outputId": "304fdb12-ba63-4d6c-cb5c-e00f17962ede"
      },
      "source": [
        "y_test"
      ],
      "execution_count": 11,
      "outputs": [
        {
          "output_type": "execute_result",
          "data": {
            "text/plain": [
              "array([0, 0, 1, 1, 0, 1, 1, 0, 0, 0, 1, 1, 0, 0, 0, 1, 0, 1, 0, 0, 1, 1,\n",
              "       0, 1])"
            ]
          },
          "metadata": {
            "tags": []
          },
          "execution_count": 11
        }
      ]
    },
    {
      "cell_type": "code",
      "metadata": {
        "id": "TAf8nVmSq13T"
      },
      "source": [
        "from sklearn.metrics import accuracy_score,confusion_matrix"
      ],
      "execution_count": 12,
      "outputs": []
    },
    {
      "cell_type": "code",
      "metadata": {
        "id": "DJHFu5pysJYW",
        "colab": {
          "base_uri": "https://localhost:8080/"
        },
        "outputId": "40ed2574-17e5-4134-a1d0-465cc254ef2c"
      },
      "source": [
        "accuracy_score(y_pred,y_test)"
      ],
      "execution_count": 13,
      "outputs": [
        {
          "output_type": "execute_result",
          "data": {
            "text/plain": [
              "0.9583333333333334"
            ]
          },
          "metadata": {
            "tags": []
          },
          "execution_count": 13
        }
      ]
    },
    {
      "cell_type": "code",
      "metadata": {
        "id": "HRrtjFJssJil",
        "colab": {
          "base_uri": "https://localhost:8080/"
        },
        "outputId": "632701ac-8fc7-4ee6-8fb4-a6eb486a7ab0"
      },
      "source": [
        "confusion_matrix(y_pred,y_test)"
      ],
      "execution_count": 14,
      "outputs": [
        {
          "output_type": "execute_result",
          "data": {
            "text/plain": [
              "array([[12,  0],\n",
              "       [ 1, 11]])"
            ]
          },
          "metadata": {
            "tags": []
          },
          "execution_count": 14
        }
      ]
    },
    {
      "cell_type": "code",
      "metadata": {
        "id": "j4WuOhETsJlA"
      },
      "source": [
        "import pickle\n",
        "pickle.dump(clf,open('img_model.p','wb'))"
      ],
      "execution_count": 15,
      "outputs": []
    },
    {
      "cell_type": "code",
      "metadata": {
        "id": "u1FHwj6usrvE"
      },
      "source": [
        "model = pickle.load(open('img_model.p','rb'))"
      ],
      "execution_count": 16,
      "outputs": []
    },
    {
      "cell_type": "code",
      "metadata": {
        "id": "pedNNBeusJoS",
        "colab": {
          "base_uri": "https://localhost:8080/",
          "height": 323
        },
        "outputId": "0023a3ce-baf0-41b8-9033-d76d28b2cb30"
      },
      "source": [
        "#Testing the model\n",
        "flat_data = []\n",
        "url = input('Enter your URL')\n",
        "img = imread(url)\n",
        "img_resized = resize(img,(150,150,3))\n",
        "flat_data.append(img_resized.flatten())\n",
        "flat_data = np.array(flat_data)\n",
        "print(img.shape)\n",
        "plt.imshow(img_resized)\n",
        "y_out = model.predict(flat_data)\n",
        "y_out = CATEGORIES[y_out[0]]\n",
        "print(f'PREDICTED OUTPUT: {y_out}')"
      ],
      "execution_count": 19,
      "outputs": [
        {
          "output_type": "stream",
          "text": [
            "Enter your URLhttps://i.pinimg.com/originals/dd/95/f9/dd95f9fb2c492c6de4f8da9b59b1973d.jpg\n",
            "(1709, 1200, 3)\n",
            "PREDICTED OUTPUT: pretty sunflower\n"
          ],
          "name": "stdout"
        },
        {
          "output_type": "display_data",
          "data": {
            "image/png": "[encoded data removed]",
            "text/plain": [
              "<Figure size 432x288 with 1 Axes>"
            ]
          },
          "metadata": {
            "tags": [],
            "needs_background": "light"
          }
        }
      ]
    }
  ]
}